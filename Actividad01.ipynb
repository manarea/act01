{
  "cells": [
    {
      "cell_type": "markdown",
      "metadata": {},
      "source": [
        "# IMPORTANTE \n",
        "Recuerda cambiar el nombre de este notebook a tu número de alumno. Por ejemplo, si tu número de alumno es 14501234, entonces cambia el nombre de este notebook a `14501234.ipynb`."
      ]
    },
    {
      "cell_type": "markdown",
      "metadata": {
        "id": "Oc8xMRaSRcAy"
      },
      "source": [
        "# Actividad 01: Unit Testing y Cobertura\n",
        "\n",
        "## Introducción\n",
        "Hasta ahora, hemos aprendido a testear nuestro código utilizando pruebas unitarias y empleando herramientas como mocks y stubs. Además, hemos explorado métricas que nos permiten evaluar qué tan exhaustivamente hemos probado nuestro código, conocidas como \"coverage\" o cobertura de pruebas.\n",
        "\n",
        "A continuación se presentará una actividad que pondrá a prueba el entendimiento con respecto a la manera de testear."
      ]
    },
    {
      "cell_type": "markdown",
      "metadata": {
        "id": "_KZSS83tJuZ2"
      },
      "source": [
        "### Requerimientos"
      ]
    },
    {
      "cell_type": "code",
      "execution_count": 1,
      "metadata": {
        "id": "dpnD_GrYJuZ2"
      },
      "outputs": [
        {
          "name": "stdout",
          "output_type": "stream",
          "text": [
            "\n"
          ]
        }
      ],
      "source": [
        "from IPython.display import clear_output\n",
        "%pip install coverage\n",
        "clear_output()"
      ]
    },
    {
      "cell_type": "markdown",
      "metadata": {},
      "source": [
        "## Parte 1: Unit Testing\n",
        "\n",
        "En esta primera parte, se le solicita que cree los tests para la clase `ComplexCalculator` y `APIClient` que se encuentra en la ruta `src/complex_calculator.py` y la ruta `src/api_client.py`. Los tests deben ser creados en los archivos `test/test_complex_calculator.py` y `test/test_api_client.py` respectivamente.\n",
        "\n",
        "En el caso de `APIClient` podemos notar que se hace uso de la librería `requests` para realizar peticiones HTTP. Para poder testear esta clase, se solicita que se haga uso de mocks para simular el comportamiento.\n",
        "\n",
        "La meta en este caso es obtener un 100% de cobertura de código.\n",
        "\n"
      ]
    },
    {
      "cell_type": "markdown",
      "metadata": {},
      "source": [
        "# Evaluación de la actividad\n",
        "\n",
        "Para evaluar la actividad, se correrán los tests con los siguientes en las celdas a continuación. Se espera que los tests pasen exitosamente y que se obtenga un 100% de cobertura de código. \n",
        "\n",
        "La primera celda ejecuta los tests, mientras que la segunda celda muestra el resultado de la cobertura de código. El coverage *total* será el que se tomará en cuenta para la evaluación, este toma en cuenta tanto statement coverage como branch coverage.\n",
        "\n",
        "```bash\n",
        "Name                        Stmts   Miss Branch BrPart  Cover   Missing\n",
        "-----------------------------------------------------------------------\n",
        "src\\api_client.py              24     12      0      0    50%   29-32, 43-46, 56-59\n",
        "src\\complex_calculator.py      42      3     20      2    92%   45, 50-51\n",
        "-----------------------------------------------------------------------\n",
        "TOTAL                          66     15     20      2    80%\n",
        "```\n",
        "\n",
        "En este caso, el coverage total es de 80%. Lo que equivale a un 5.5 en la escala de 1 a 7."
      ]
    },
    {
      "cell_type": "code",
      "execution_count": 47,
      "metadata": {
        "colab": {
          "base_uri": "https://localhost:8080/"
        },
        "id": "JdKo9OT4IFQ1",
        "outputId": "f9363420-e82c-4ae8-e86f-f1a16e47dc88"
      },
      "outputs": [
        {
          "name": "stderr",
          "output_type": "stream",
          "text": [
            ".....FFFF.........\n",
            "======================================================================\n",
            "FAIL: test_complex_operation_negative_result (test_complex_calculator.TestComplexCalculator)\n",
            "----------------------------------------------------------------------\n",
            "Traceback (most recent call last):\n",
            "  File \"c:\\Users\\maxim\\OneDrive\\Escritorio\\Actividad 01\\tests\\test_complex_calculator.py\", line 68, in test_complex_operation_negative_result\n",
            "    self.assertEqual(calc.complex_operation(2, 10), -6)  # 7 (5 + 2) - 10 -> -3 * 2\n",
            "AssertionError: 'Cannot divide when current value is zero.' != -6\n",
            "\n",
            "======================================================================\n",
            "FAIL: test_complex_operation_positive (test_complex_calculator.TestComplexCalculator)\n",
            "----------------------------------------------------------------------\n",
            "Traceback (most recent call last):\n",
            "  File \"c:\\Users\\maxim\\OneDrive\\Escritorio\\Actividad 01\\tests\\test_complex_calculator.py\", line 64, in test_complex_operation_positive\n",
            "    self.assertEqual(calc.complex_operation(10, 3), 12)  # 15 (5 + 10) - 3\n",
            "AssertionError: 4.0 != 12\n",
            "\n",
            "======================================================================\n",
            "FAIL: test_complex_operation_subtract_more_than_value (test_complex_calculator.TestComplexCalculator)\n",
            "----------------------------------------------------------------------\n",
            "Traceback (most recent call last):\n",
            "  File \"c:\\Users\\maxim\\OneDrive\\Escritorio\\Actividad 01\\tests\\test_complex_calculator.py\", line 83, in test_complex_operation_subtract_more_than_value\n",
            "    self.assertEqual(result, -24)  # (8-5) -> -3 * 8 -> -24\n",
            "AssertionError: 'Cannot divide when current value is zero.' != -24\n",
            "\n",
            "======================================================================\n",
            "FAIL: test_complex_operation_zero_division (test_complex_calculator.TestComplexCalculator)\n",
            "----------------------------------------------------------------------\n",
            "Traceback (most recent call last):\n",
            "  File \"c:\\Users\\maxim\\OneDrive\\Escritorio\\Actividad 01\\tests\\test_complex_calculator.py\", line 73, in test_complex_operation_zero_division\n",
            "    self.assertEqual(result, \"Cannot divide by zero.\")\n",
            "AssertionError: 'Cannot add zero.' != 'Cannot divide by zero.'\n",
            "- Cannot add zero.\n",
            "?        -\n",
            "+ Cannot divide by zero.\n",
            "?         +++ ++++\n",
            "\n",
            "\n",
            "----------------------------------------------------------------------\n",
            "Ran 18 tests in 0.003s\n",
            "\n",
            "FAILED (failures=4)\n"
          ]
        }
      ],
      "source": [
        "!coverage run --rcfile=.coveragerc -m unittest discover -s tests\n"
      ]
    },
    {
      "cell_type": "code",
      "execution_count": 3,
      "metadata": {},
      "outputs": [
        {
          "name": "stdout",
          "output_type": "stream",
          "text": [
            "Name                        Stmts   Miss Branch BrPart  Cover   Missing\n",
            "-----------------------------------------------------------------------\n",
            "src\\api_client.py              24     12      0      0    50%   29-32, 43-46, 56-59\n",
            "src\\complex_calculator.py      42      3     20      2    92%   45, 50-51\n",
            "-----------------------------------------------------------------------\n",
            "TOTAL                          66     15     20      2    80%\n"
          ]
        }
      ],
      "source": [
        "!coverage report -m"
      ]
    }
  ],
  "metadata": {
    "colab": {
      "provenance": []
    },
    "kernelspec": {
      "display_name": "Python 3",
      "name": "python3"
    },
    "language_info": {
      "codemirror_mode": {
        "name": "ipython",
        "version": 3
      },
      "file_extension": ".py",
      "mimetype": "text/x-python",
      "name": "python",
      "nbconvert_exporter": "python",
      "pygments_lexer": "ipython3",
      "version": "3.9.0"
    }
  },
  "nbformat": 4,
  "nbformat_minor": 0
}
